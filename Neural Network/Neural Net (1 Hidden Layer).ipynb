{
 "cells": [
  {
   "cell_type": "code",
   "execution_count": 1,
   "metadata": {
    "ExecuteTime": {
     "end_time": "2018-11-28T03:40:38.066182Z",
     "start_time": "2018-11-28T03:40:36.996289Z"
    }
   },
   "outputs": [],
   "source": [
    "import numpy as np\n",
    "import pandas as pd\n",
    "import matplotlib.pyplot as plt\n",
    "import seaborn as sns\n",
    "import random\n",
    "import warnings\n",
    "from sklearn.metrics import accuracy_score\n",
    "from sklearn.model_selection import train_test_split\n",
    "warnings.filterwarnings('ignore')\n",
    "random.seed(123)\n",
    "np.random.seed(123)"
   ]
  },
  {
   "cell_type": "code",
   "execution_count": 2,
   "metadata": {
    "ExecuteTime": {
     "end_time": "2018-11-28T03:40:38.097517Z",
     "start_time": "2018-11-28T03:40:38.069736Z"
    }
   },
   "outputs": [],
   "source": [
    "class NN():\n",
    "    # Initialize all the values\n",
    "    def __init__(self, X, Y, act, op_dim=2, alpha=0.000001, lam=0.00005, hidden_nodes=2):\n",
    "        self.X = X\n",
    "        self.Y = Y\n",
    "        self.N = len(X)\n",
    "        self.ip_dim = len(X[0])\n",
    "        self.op_dim = op_dim\n",
    "        self.alpha = alpha\n",
    "        self.lam = lam\n",
    "        self.hidden_nodes = hidden_nodes\n",
    "        self.weights_1 = np.random.normal(0, 1, [self.ip_dim, self.hidden_nodes])\n",
    "        self.bias_1 = np.zeros((1, self.hidden_nodes))\n",
    "        self.weights_2= np.random.normal(0, 1, [self.hidden_nodes, self.op_dim])\n",
    "        self.bias_2 = np.zeros((1, self.op_dim))\n",
    "        if act == 'relu':\n",
    "            self.act = self.relu\n",
    "            self.derivate_act = self.drelu\n",
    "        elif act == 'sig':\n",
    "            self.act = self.sig\n",
    "            self.derivate_act = self.dsig\n",
    "        else:\n",
    "            self.act = self.tan\n",
    "            self.derivate_act = self.dtan\n",
    "    \n",
    "    # Rectifier Linear Activation\n",
    "    def relu(self, x):\n",
    "        return np.maximum(0, x)\n",
    "    \n",
    "    # Derivative of Rectifier Linear Activation\n",
    "    def drelu(self, x):\n",
    "        x[x <= 0] = 0\n",
    "        x[x > 0] = 1\n",
    "        return x\n",
    "    \n",
    "    # Hyperbolic Tan Activation\n",
    "    def tan(self, x):\n",
    "        return np.tanh(x)\n",
    "    \n",
    "    # Derivative of Hyperbolic Tan Activation\n",
    "    def dtan(self, x):\n",
    "        return 1.0 - x ** 2\n",
    "    \n",
    "    # Sigmoid Activation\n",
    "    def sig(self, x):\n",
    "        return 1.0 / (1.0 * np.exp(-x))\n",
    "    \n",
    "    # Derivative of Sigmoid Activation\n",
    "    def dsig(self, x):\n",
    "        return x * (1.0 - x)\n",
    "    \n",
    "    #Calculating softmax\n",
    "    def softmax(self, op):\n",
    "        logits_exp = np.exp(op)\n",
    "        return logits_exp / np.sum(logits_exp, axis=1, keepdims=True)\n",
    "    \n",
    "    \n",
    "    #Calculating loss\n",
    "    def calcLoss(self):        \n",
    "        layer1 = self.X.dot(self.weights_1) + self.bias_1\n",
    "        layer1_act = self.act(layer1)\n",
    "        layer2 = layer1.dot(self.weights_2) + self.bias_2\n",
    "        result = self.softmax(layer2)\n",
    "        \n",
    "        prob = -np.log(result[range(self.N), self.Y])\n",
    "        loss = np.sum(prob)\n",
    "        loss += self.lam / (2 * (np.sum(self.weights_1 ** 2) + np.sum(self.weights_2 ** 2)))\n",
    "        return 1./ (self.N * loss)\n",
    "   \n",
    "   \n",
    "    #Predicting the outputs and calculating accuracy.\n",
    "    def predict(self, X, y_true, lab, weights_1=None, bias_1=None, weights_2=None, bias_2=None, flag=0):\n",
    "        \n",
    "        if flag == 0: \n",
    "            layer1 = X.dot(self.weights_1) + self.bias_1\n",
    "            layer1_act = self.act(layer1)\n",
    "            layer2 = layer1.dot(self.weights_2) + self.bias_2\n",
    "            result = self.softmax(layer2)\n",
    "            y_pred = np.argmax(result / np.sum(result, axis=1, keepdims=True), axis = 1)\n",
    "            \n",
    "        else:\n",
    "            layer1 = X.dot(weights_1) + bias_1\n",
    "            layer1_act = self.act(layer1)\n",
    "            layer2 = layer1.dot(weights_2) + bias_2\n",
    "            result = self.softmax(layer2)\n",
    "            y_pred = np.argmax(result / np.sum(result, axis=1, keepdims=True), axis = 1)\n",
    "        \n",
    "        \n",
    "        \n",
    "        acc = accuracy_score(y_true, y_pred)\n",
    "        print(\"Accuracy on \"+ lab,  acc)\n",
    "        \n",
    "        return acc\n",
    "        \n",
    "\n",
    "    # Fitting the neural network\n",
    "    def fit(self, epochs=1000, printLoss=True):\n",
    "        \n",
    "        \n",
    "        for i in range(0, epochs):\n",
    "            \n",
    "            ## Feed forward\n",
    "            layer1 = self.X.dot(self.weights_1) + self.bias_1\n",
    "            layer1_act = self.act(layer1)\n",
    "            layer2 = layer1.dot(self.weights_2) + self.bias_2\n",
    "            result = self.softmax(layer2)\n",
    "            \n",
    "\n",
    "            ## Backpropogation\n",
    "            delta_3 = result\n",
    "            delta_3[range(self.N), self.Y] -= 1\n",
    "\n",
    "            delta_weights_2 = (layer1_act.T).dot(delta_3)\n",
    "            delta_bias_2 = np.sum(delta_3, axis=0, keepdims=True)\n",
    "            delta_2 = delta_3.dot(self.weights_2.T) * self.derivate_act(layer1_act)\n",
    "\n",
    "            delta_weights_1 = (self.X.T).dot(delta_2)\n",
    "            delta_bias_1 = np.sum(delta_2, axis=0)\n",
    "            \n",
    "            ## Regularization\n",
    "            delta_weights_1 += self.lam * self.weights_1\n",
    "            delta_weights_2 += self.lam * self.weights_2\n",
    "\n",
    "            ## Update Weights\n",
    "            self.weights_1 += -self.alpha * delta_weights_1\n",
    "            self.bias_1 += -self.alpha * delta_bias_1\n",
    "            self.weights_2 += -self.alpha * delta_weights_2\n",
    "            self.bias_2 += -self.alpha * delta_bias_2\n",
    "\n",
    "            loss = self.calcLoss()\n",
    "            if i % 100 == 0 and printLoss:\n",
    "                print(\"Iteration \", i, \"Loss\", loss)\n",
    "        \n",
    "        #Returning the learned weights, bias and the last activation.\n",
    "        return self.weights_1, self.bias_1, self.weights_2, self.bias_2, result"
   ]
  },
  {
   "cell_type": "code",
   "execution_count": 3,
   "metadata": {
    "ExecuteTime": {
     "end_time": "2018-11-28T03:40:38.140218Z",
     "start_time": "2018-11-28T03:40:38.099465Z"
    }
   },
   "outputs": [],
   "source": [
    "# Load the dataset\n",
    "data = np.loadtxt(\"HW5.csv\", delimiter=\",\", skiprows=1)\n",
    "X = data[:, :-1]\n",
    "Y = data[:, -1].astype(int)\n",
    "train_X, temp, train_Y, temp_y = train_test_split(X, Y, test_size=0.4)\n",
    "valid_X, test_X, valid_Y, test_Y = train_test_split(temp, temp_y, test_size=0.5)"
   ]
  },
  {
   "cell_type": "markdown",
   "metadata": {},
   "source": [
    "### Corssvalidating for Lamda with 2 neurons in hidden layer and Relu as activation"
   ]
  },
  {
   "cell_type": "code",
   "execution_count": 4,
   "metadata": {
    "ExecuteTime": {
     "end_time": "2018-11-28T03:40:53.183526Z",
     "start_time": "2018-11-28T03:40:38.143117Z"
    }
   },
   "outputs": [
    {
     "name": "stdout",
     "output_type": "stream",
     "text": [
      "Accuracy on validtion set 0.748\n",
      "Accuracy on validtion set 0.756\n",
      "Accuracy on validtion set 0.749\n",
      "Accuracy on validtion set 0.749\n",
      "Accuracy on validtion set 0.675\n",
      "Accuracy on validtion set 0.631\n",
      "Accuracy on validtion set 0.749\n",
      "Accuracy on validtion set 0.682\n",
      "Accuracy on validtion set 0.555\n",
      "Accuracy on validtion set 0.673\n",
      "\n",
      "\n",
      "\n",
      "Best lamda value: 0.011155555555555556\n",
      "Accuracy on validtion set 0.756\n",
      "Accuracy on training set 0.7423333333333333\n",
      "Accuracy on testing set 0.751\n"
     ]
    }
   ],
   "source": [
    "l = []\n",
    "params = []\n",
    "lams =  np.linspace(0.00005, 0.1, 10)\n",
    "for lam in lams:\n",
    "    nn = NN(train_X, train_Y, act= 'relu', hidden_nodes=2, lam=lam)\n",
    "    w1, b1, w2, b2, result = nn.fit(printLoss = False)\n",
    "    params.append([w1,b1,w2,b2])\n",
    "    l.append(nn.predict(valid_X, valid_Y, 'validtion set'))\n",
    "\n",
    "\n",
    "index = l.index(max(l))\n",
    "final_lam = lams[index]\n",
    "final_param = params[index]\n",
    "print(\"\\n\\n\\nBest lamda value:\" , final_lam)\n",
    "nn = NN(train_X, train_Y, act= 'relu', hidden_nodes=2, lam=final_lam)\n",
    "_ =nn.predict(valid_X, valid_Y, 'validtion set', final_param[0],final_param[1], final_param[2],final_param[3], flag=1)\n",
    "_ = nn.predict(train_X, train_Y, 'training set', final_param[0],final_param[1], final_param[2],final_param[3], flag=1)\n",
    "_ = nn.predict(test_X, test_Y, 'testing set', final_param[0],final_param[1], final_param[2],final_param[3], flag=1)"
   ]
  },
  {
   "cell_type": "markdown",
   "metadata": {},
   "source": [
    "### Corssvalidating for Lamda with 10 neurons in hidden layer and tan as activation"
   ]
  },
  {
   "cell_type": "code",
   "execution_count": 5,
   "metadata": {
    "ExecuteTime": {
     "end_time": "2018-11-28T03:41:02.767884Z",
     "start_time": "2018-11-28T03:40:53.186310Z"
    }
   },
   "outputs": [
    {
     "name": "stdout",
     "output_type": "stream",
     "text": [
      "Accuracy on validtion set 0.541\n",
      "Accuracy on validtion set 0.483\n",
      "Accuracy on validtion set 0.547\n",
      "Accuracy on validtion set 0.602\n",
      "Accuracy on validtion set 0.477\n",
      "Accuracy on validtion set 0.557\n",
      "Accuracy on validtion set 0.251\n",
      "Accuracy on validtion set 0.548\n",
      "Accuracy on validtion set 0.514\n",
      "Accuracy on validtion set 0.711\n",
      "\n",
      "\n",
      "\n",
      "Best lamda value: 0.3\n",
      "Accuracy on validtion set 0.711\n",
      "Accuracy on training set 0.6896666666666667\n",
      "Accuracy on testing set 0.7\n"
     ]
    }
   ],
   "source": [
    "l = []\n",
    "params = []\n",
    "lams =  np.linspace(0.05, 0.3, 10)\n",
    "for lam in lams:\n",
    "    nn = NN(train_X, train_Y, act= 'relu', hidden_nodes=10, lam=lam, alpha=0.000001)\n",
    "    w1, b1, w2, b2, result = nn.fit(printLoss = False, epochs=500)\n",
    "    params.append([w1,b1,w2,b2])\n",
    "    l.append(nn.predict(valid_X, valid_Y, 'validtion set'))\n",
    "\n",
    "\n",
    "index = l.index(max(l))\n",
    "final_lam = lams[index]\n",
    "final_param = params[index]\n",
    "print(\"\\n\\n\\nBest lamda value:\" , final_lam)\n",
    "nn = NN(train_X, train_Y, act= 'tan', hidden_nodes=2, lam=final_lam)\n",
    "_ =nn.predict(valid_X, valid_Y, 'validtion set', final_param[0],final_param[1], final_param[2],final_param[3], flag=1)\n",
    "_ = nn.predict(train_X, train_Y, 'training set', final_param[0],final_param[1], final_param[2],final_param[3], flag=1)\n",
    "_ = nn.predict(test_X, test_Y, 'testing set', final_param[0],final_param[1], final_param[2],final_param[3], flag=1)"
   ]
  },
  {
   "cell_type": "code",
   "execution_count": 6,
   "metadata": {
    "ExecuteTime": {
     "end_time": "2018-11-28T03:41:03.004818Z",
     "start_time": "2018-11-28T03:41:02.770544Z"
    }
   },
   "outputs": [
    {
     "data": {
      "image/png": "[encoded data removed]",
      "text/plain": [
       "<Figure size 432x288 with 1 Axes>"
      ]
     },
     "metadata": {
      "needs_background": "light"
     },
     "output_type": "display_data"
    }
   ],
   "source": [
    "## Plotting the data\n",
    "circle = X[np.where(Y == 1)]\n",
    "square = X[np.where(Y == 0)]\n",
    "sns.scatterplot(x=circle[:,0], y=circle[:, 1], color='blue', marker='o')\n",
    "sns.scatterplot(x=square[:,0], y=square[:, 1], color='red', marker='s')\n",
    "plt.show()"
   ]
  },
  {
   "cell_type": "markdown",
   "metadata": {},
   "source": [
    "The data is not linearly seperable. \n",
    "Neither the neural net in part 2 nor part 3 was completely able to classify the data one of the reasons being the overlapping outliers which affects the decision boundry. However the neural net in part 2 and part 3 was able to classify them with a accuracy of  75% and 72% respectively."
   ]
  }
 ],
 "metadata": {
  "kernelspec": {
   "display_name": "Python 3",
   "language": "python",
   "name": "python3"
  },
  "language_info": {
   "codemirror_mode": {
    "name": "ipython",
    "version": 3
   },
   "file_extension": ".py",
   "mimetype": "text/x-python",
   "name": "python",
   "nbconvert_exporter": "python",
   "pygments_lexer": "ipython3",
   "version": "3.6.6"
  }
 },
 "nbformat": 4,
 "nbformat_minor": 2
}
