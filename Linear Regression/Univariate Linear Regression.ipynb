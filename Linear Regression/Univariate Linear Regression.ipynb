{
 "cells": [
  {
   "cell_type": "code",
   "execution_count": 1,
   "metadata": {
    "ExecuteTime": {
     "end_time": "2018-09-26T21:39:35.317675Z",
     "start_time": "2018-09-26T21:39:35.043231Z"
    }
   },
   "outputs": [],
   "source": [
    "import numpy as np\n",
    "import matplotlib.pyplot as plt\n",
    "from numpy.linalg import inv\n",
    "np.random.seed(999)"
   ]
  },
  {
   "cell_type": "markdown",
   "metadata": {},
   "source": [
    "#### Method to generate Uniform Errors"
   ]
  },
  {
   "cell_type": "code",
   "execution_count": 2,
   "metadata": {
    "ExecuteTime": {
     "end_time": "2018-09-26T21:39:35.322040Z",
     "start_time": "2018-09-26T21:39:35.319429Z"
    }
   },
   "outputs": [],
   "source": [
    "def genError():\n",
    "    e = np.random.uniform(-1,1,10000)\n",
    "    e = np.sort(e)\n",
    "    return e"
   ]
  },
  {
   "cell_type": "markdown",
   "metadata": {},
   "source": [
    "#### Generate Quadratic loss, mean absolute loss and hubber loss"
   ]
  },
  {
   "cell_type": "code",
   "execution_count": 3,
   "metadata": {
    "ExecuteTime": {
     "end_time": "2018-09-26T21:39:35.329284Z",
     "start_time": "2018-09-26T21:39:35.323899Z"
    }
   },
   "outputs": [],
   "source": [
    "def loss_funcs(e):\n",
    "    quad_loss = e**2\n",
    "    mean_loss = abs(e)\n",
    "    delta = 0.7\n",
    "    huber_loss = [ (0.5 * (i**2)) if i <= delta else ((delta*abs(i)) - (0.5*(delta**2))) for i in e]\n",
    "    return quad_loss, mean_loss, huber_loss"
   ]
  },
  {
   "cell_type": "markdown",
   "metadata": {},
   "source": [
    "#### Plot Loss"
   ]
  },
  {
   "cell_type": "code",
   "execution_count": 4,
   "metadata": {
    "ExecuteTime": {
     "end_time": "2018-09-26T21:39:35.337278Z",
     "start_time": "2018-09-26T21:39:35.333587Z"
    }
   },
   "outputs": [],
   "source": [
    "def plot_loss(plots):\n",
    "    c = ['b', 'g', 'r']\n",
    "    for i in range(0, len(plots)):\n",
    "        plt.scatter(e, plots[i], s=0.2, c=c[i])\n",
    "    plt.show()"
   ]
  },
  {
   "cell_type": "markdown",
   "metadata": {
    "ExecuteTime": {
     "end_time": "2018-09-18T19:02:02.360320Z",
     "start_time": "2018-09-18T19:02:02.357736Z"
    }
   },
   "source": [
    "#### Class for gradient descent"
   ]
  },
  {
   "cell_type": "code",
   "execution_count": 5,
   "metadata": {
    "ExecuteTime": {
     "end_time": "2018-09-26T21:39:35.357293Z",
     "start_time": "2018-09-26T21:39:35.339861Z"
    }
   },
   "outputs": [],
   "source": [
    "class GradientDescent():\n",
    " \n",
    "    # Mean Squared Error\n",
    "    def gd_quad(self, theta0, theta1, x, y, learning_rate=0.01, num_steps=600):\n",
    "        m = len(x)\n",
    "        error = []\n",
    "        for i in range(0, num_steps):\n",
    "            error.append(np.sum((theta0 + np.dot(theta1,x) - y)**2) / 2*m)\n",
    "            t0 =  np.sum(theta0 + (theta1*x) - y) / m\n",
    "            t1 =  np.sum((theta0 + (theta1*x) - y)*x) / m\n",
    "            theta0 = theta0 - (learning_rate * t0)\n",
    "            theta1 = theta1 - (learning_rate * t1)\n",
    "        return theta0, theta1, error\n",
    "    \n",
    "    # Mean absolute Error\n",
    "    def gd_mae(self, theta0, theta1, x, y, learning_rate=0.01, num_steps=1000):\n",
    "        m = len(x)\n",
    "        error = []\n",
    "        for i in range(0, num_steps):\n",
    "            error.append(np.sum((theta0 + np.dot(theta1,x) - y)**2) / 2*m)\n",
    "            a = ((theta0 + (theta1*x)) - y)\n",
    "            t0 =   np.sum(np.where(a>0, +1, np.where(a==0, 0, -1))) / m\n",
    "            t1 =   np.sum(np.where(a>0, +1, np.where(a==0, 0, -1))*x) / m\n",
    "            theta0 = theta0 - (learning_rate * t0)\n",
    "            theta1 = theta1 - (learning_rate * t1)\n",
    "        return theta0, theta1, error\n",
    "    \n",
    "    # Hubber Loss\n",
    "    def gd_hubber(self, theta0, theta1, x, y, delta, learning_rate=0.01, num_steps=1000):\n",
    "        m = len(x)\n",
    "        error = []\n",
    "        for i in range(0, num_steps):\n",
    "            error.append(np.sum((theta0 + np.dot(theta1,x) - y)**2) / 2*m)\n",
    "            a = ((theta0 + (theta1*x)) - y)\n",
    "            t0 =   np.sum(np.where(a>delta, delta, np.where(a<(-1*delta), (-1*delta), a))) / m\n",
    "            t1 =   np.sum(np.where(a>delta, delta, np.where(a<(-1*delta), (-1*delta), a))*x) / m\n",
    "            theta0 = theta0 - (learning_rate * t0)\n",
    "            theta1 = theta1 - (learning_rate * t1)\n",
    "        return theta0, theta1, error\n",
    "    \n",
    "    # SGD using Mean Squared Error\n",
    "    def sgd_quad(self,theta0, theta1, x, y, learning_rate=0.01, num_steps=600):\n",
    "        m = len(x)\n",
    "        index = np.arange(m)\n",
    "        np.random.shuffle(index)\n",
    "        x = x[index]\n",
    "        y = y[index]\n",
    "        error = []\n",
    "        for i in range(0, num_steps):\n",
    "            error.append(np.sum((theta0 + np.dot(theta1,x) - y)**2) / 2*m)\n",
    "            for j in range(0,m):\n",
    "                t0 = (theta0 + (theta1 * x[j]) - y[j])\n",
    "                theta0 = theta0 - (learning_rate * t0) / m\n",
    "                theta1 = theta1 - (learning_rate * t0 * x[j]) / m \n",
    "        return theta0, theta1, error\n",
    "    \n",
    "    # SGD using Mean Absolute Error\n",
    "    def sgd_mae(self, theta0, theta1, x, y, learning_rate=0.01, num_steps=1000):\n",
    "        m = len(x)\n",
    "        index = np.arange(m)\n",
    "        np.random.shuffle(index)\n",
    "        x = x[index]\n",
    "        y = y[index]\n",
    "        error = []\n",
    "        for i in range(0, num_steps):\n",
    "            error.append(np.sum((theta0 + np.dot(theta1,x) - y)**2) / 2*m)\n",
    "            for j in range(0,m):\n",
    "                a = (theta0 + (theta1 * x[j]))\n",
    "\n",
    "                t0 = 1 if a > y[j] else -1 if a < y[j] else 0 \n",
    "\n",
    "                theta0 = theta0 - (learning_rate * t0) / m\n",
    "                theta1 = theta1 - (learning_rate * t0 * x[j]) / m\n",
    "        return theta0, theta1, error\n",
    "    \n",
    "    # SGD using Hubber Loss\n",
    "    def sgd_hubber(self, theta0, theta1, x, y, delta, learning_rate=0.01, num_steps=1000):\n",
    "        m = len(x)\n",
    "        index = np.arange(m)\n",
    "        np.random.shuffle(index)\n",
    "        x = x[index]\n",
    "        y = y[index]\n",
    "        error = []\n",
    "        for i in range(0, num_steps):\n",
    "            error.append(np.sum((theta0 + np.dot(theta1,x) - y)**2) / 2*m)\n",
    "            for j in range(0,m):\n",
    "                a = (theta0 + (theta1 * x[j]) - y[j])\n",
    "\n",
    "                t0 = delta if a > delta else (-1*delta) if a < (-1*delta) else a \n",
    "\n",
    "                theta0 = theta0 - (learning_rate * t0) / m\n",
    "                theta1 = theta1 - (learning_rate * t0 * x[j]) / m\n",
    "        return theta0, theta1, error\n",
    "    \n",
    "    # Analytical Solution\n",
    "    def analytical(self,x, y):\n",
    "        x= np.insert(x.reshape(-1,1), 0, 1, axis=1)\n",
    "        t = np.dot(inv(np.dot(np.transpose(x), x)), np.dot(np.transpose(x), y))\n",
    "        return t[0], t[1]"
   ]
  },
  {
   "cell_type": "markdown",
   "metadata": {},
   "source": [
    "#### Generating Data"
   ]
  },
  {
   "cell_type": "code",
   "execution_count": 6,
   "metadata": {
    "ExecuteTime": {
     "end_time": "2018-09-26T21:39:35.363788Z",
     "start_time": "2018-09-26T21:39:35.359556Z"
    }
   },
   "outputs": [],
   "source": [
    "def init(size=50):\n",
    "    X_i = np.random.uniform(low=-2,high=2,size=50)\n",
    "    e = np.random.normal(loc=0, scale=2, size=50)\n",
    "    Y = 2 + X_i*3 + e\n",
    "    theta0 = np.random.randint(low=0, high=10, size=1)[0]\n",
    "    theta1 = np.random.randint(low=0, high=10, size=1)[0]\n",
    "    gd = GradientDescent()\n",
    "    return X_i, Y, theta0, theta1, gd"
   ]
  },
  {
   "cell_type": "markdown",
   "metadata": {},
   "source": [
    "#### Generating noisy data"
   ]
  },
  {
   "cell_type": "code",
   "execution_count": 7,
   "metadata": {
    "ExecuteTime": {
     "end_time": "2018-09-26T21:39:35.371072Z",
     "start_time": "2018-09-26T21:39:35.366591Z"
    }
   },
   "outputs": [],
   "source": [
    "def insertNoise(tprob):\n",
    "    X_i, Y, theta0, theta1, gd = init()\n",
    "    t_points = int(tprob*len(X_i))\n",
    "    error_indexes = np.random.randint(low=0, high=len(X_i), size=t_points)\n",
    "    error_type = np.random.randint(2, size=t_points)\n",
    "    for i in range(0, len(error_indexes)):\n",
    "        if error_type[i] == 1:\n",
    "            Y[error_indexes[i]] = Y[error_indexes[i]] * 1.5\n",
    "        else:\n",
    "            Y[error_indexes[i]] = Y[error_indexes[i]] * 0.5\n",
    "    return X_i, Y, theta0, theta1, gd"
   ]
  },
  {
   "cell_type": "markdown",
   "metadata": {},
   "source": [
    "#### Generate histograms for slope"
   ]
  },
  {
   "cell_type": "code",
   "execution_count": 8,
   "metadata": {
    "ExecuteTime": {
     "end_time": "2018-09-26T21:39:35.379369Z",
     "start_time": "2018-09-26T21:39:35.373487Z"
    }
   },
   "outputs": [],
   "source": [
    "def gen_hist(rep, style, delta=0, error=0, tprob=0):\n",
    "    slope = []\n",
    "    for i in range(0,rep):\n",
    "        if error == 0:\n",
    "            X_i, Y, theta0, theta1, gd = init()\n",
    "        else:\n",
    "            X_i, Y, theta0, theta1, gd = insertNoise(0.1)\n",
    "        if style == 'gd':\n",
    "            n_theta0, n_theta1, n_error = gd.gd_quad(theta0, theta1, X_i, Y)\n",
    "        elif style == 'sgd':\n",
    "            n_theta0, n_theta1, n_error = gd.sgd_quad(theta0, theta1, X_i, Y)\n",
    "        elif style == 'ana':\n",
    "            n_theta0, n_theta1 = gd.analytical(X_i, Y)\n",
    "        elif style == 'mae':\n",
    "            n_theta0, n_theta1, n_error = gd.gd_mae(theta0, theta1, X_i, Y)\n",
    "        elif style == 'hubber':\n",
    "            n_theta0, n_theta1, n_error = gd.gd_mae(theta0, theta1, X_i, Y, delta)\n",
    "        slope.append(n_theta1)\n",
    "    print('The mean of the slope is ', np.mean(slope))\n",
    "    plt.hist(slope)\n",
    "    plt.show()"
   ]
  },
  {
   "cell_type": "markdown",
   "metadata": {},
   "source": [
    "#### Plot all 3 errors"
   ]
  },
  {
   "cell_type": "code",
   "execution_count": 9,
   "metadata": {
    "ExecuteTime": {
     "end_time": "2018-09-26T21:39:35.726433Z",
     "start_time": "2018-09-26T21:39:35.382209Z"
    }
   },
   "outputs": [
    {
     "data": {
      "image/png": "[encoded data removed]",
      "text/plain": [
       "<Figure size 432x288 with 1 Axes>"
      ]
     },
     "metadata": {},
     "output_type": "display_data"
    }
   ],
   "source": [
    "e = genError()\n",
    "quad_loss, mean_loss, huber_loss = loss_funcs(e)\n",
    "plot_loss([quad_loss, mean_loss, huber_loss])"
   ]
  },
  {
   "cell_type": "markdown",
   "metadata": {},
   "source": [
    "#### Get Data"
   ]
  },
  {
   "cell_type": "code",
   "execution_count": 10,
   "metadata": {
    "ExecuteTime": {
     "end_time": "2018-09-26T21:39:35.731707Z",
     "start_time": "2018-09-26T21:39:35.728737Z"
    }
   },
   "outputs": [],
   "source": [
    "X_i, Y, theta0, theta1, gd = init()"
   ]
  },
  {
   "cell_type": "markdown",
   "metadata": {},
   "source": [
    "#### Deriving the slope and intercept using Analytical Solution"
   ]
  },
  {
   "cell_type": "code",
   "execution_count": 11,
   "metadata": {
    "ExecuteTime": {
     "end_time": "2018-09-26T21:39:35.742913Z",
     "start_time": "2018-09-26T21:39:35.733987Z"
    }
   },
   "outputs": [
    {
     "data": {
      "text/plain": [
       "(2.007617265317731, 2.832643898960809)"
      ]
     },
     "execution_count": 11,
     "metadata": {},
     "output_type": "execute_result"
    }
   ],
   "source": [
    "n_theta0, n_theta1 = gd.analytical(X_i, Y)\n",
    "n_theta0, n_theta1"
   ]
  },
  {
   "cell_type": "markdown",
   "metadata": {
    "ExecuteTime": {
     "end_time": "2018-09-18T19:07:59.601393Z",
     "start_time": "2018-09-18T19:07:59.599102Z"
    }
   },
   "source": [
    "#### Deriving the slope and intercept using Gradiant Descent"
   ]
  },
  {
   "cell_type": "code",
   "execution_count": 12,
   "metadata": {
    "ExecuteTime": {
     "end_time": "2018-09-26T21:39:35.892579Z",
     "start_time": "2018-09-26T21:39:35.745006Z"
    }
   },
   "outputs": [
    {
     "data": {
      "text/plain": [
       "(2.009483034321938, 2.8335738589218167)"
      ]
     },
     "execution_count": 12,
     "metadata": {},
     "output_type": "execute_result"
    },
    {
     "data": {
      "image/png": "[encoded data removed]",
      "text/plain": [
       "<Figure size 432x288 with 1 Axes>"
      ]
     },
     "metadata": {},
     "output_type": "display_data"
    }
   ],
   "source": [
    "n_theta0, n_theta1, n_error = gd.gd_quad(theta0, theta1, X_i, Y, num_steps=900)\n",
    "plt.plot(n_error)\n",
    "n_theta0, n_theta1"
   ]
  },
  {
   "cell_type": "markdown",
   "metadata": {},
   "source": [
    "#### Deriving the slope and intercept using SGD/Batch Gradiant Descent"
   ]
  },
  {
   "cell_type": "code",
   "execution_count": 13,
   "metadata": {
    "ExecuteTime": {
     "end_time": "2018-09-26T21:39:36.060942Z",
     "start_time": "2018-09-26T21:39:35.894744Z"
    }
   },
   "outputs": [
    {
     "data": {
      "text/plain": [
       "(2.033404714125088, 2.8457135940605434)"
      ]
     },
     "execution_count": 13,
     "metadata": {},
     "output_type": "execute_result"
    },
    {
     "data": {
      "image/png": "[encoded data removed]",
      "text/plain": [
       "<Figure size 432x288 with 1 Axes>"
      ]
     },
     "metadata": {},
     "output_type": "display_data"
    }
   ],
   "source": [
    "n_theta0, n_theta1, n_error = gd.sgd_quad(theta0, theta1, X_i, Y)\n",
    "plt.plot(n_error)\n",
    "n_theta0, n_theta1"
   ]
  },
  {
   "cell_type": "markdown",
   "metadata": {},
   "source": [
    "#### Slope Histogram of Analytical Solution"
   ]
  },
  {
   "cell_type": "code",
   "execution_count": 14,
   "metadata": {
    "ExecuteTime": {
     "end_time": "2018-09-26T21:39:36.241698Z",
     "start_time": "2018-09-26T21:39:36.063161Z"
    }
   },
   "outputs": [
    {
     "name": "stdout",
     "output_type": "stream",
     "text": [
      "The mean of the slope is  2.9932462355529132\n"
     ]
    },
    {
     "data": {
      "image/png": "[encoded data removed]",
      "text/plain": [
       "<Figure size 432x288 with 1 Axes>"
      ]
     },
     "metadata": {},
     "output_type": "display_data"
    }
   ],
   "source": [
    "gen_hist(1000, 'ana')"
   ]
  },
  {
   "cell_type": "markdown",
   "metadata": {},
   "source": [
    "#### Slope Histogram of Gradient Descent"
   ]
  },
  {
   "cell_type": "code",
   "execution_count": 15,
   "metadata": {
    "ExecuteTime": {
     "end_time": "2018-09-26T21:39:48.394606Z",
     "start_time": "2018-09-26T21:39:36.243767Z"
    }
   },
   "outputs": [
    {
     "name": "stdout",
     "output_type": "stream",
     "text": [
      "The mean of the slope is  2.9913128601757526\n"
     ]
    },
    {
     "data": {
      "image/png": "[encoded data removed]",
      "text/plain": [
       "<Figure size 432x288 with 1 Axes>"
      ]
     },
     "metadata": {},
     "output_type": "display_data"
    }
   ],
   "source": [
    "gen_hist(1000, 'gd')"
   ]
  },
  {
   "cell_type": "markdown",
   "metadata": {},
   "source": [
    "#### Slope Histogram of SGD / Batch Gradient Descent"
   ]
  },
  {
   "cell_type": "code",
   "execution_count": 16,
   "metadata": {
    "ExecuteTime": {
     "end_time": "2018-09-26T21:40:24.099645Z",
     "start_time": "2018-09-26T21:39:48.397083Z"
    }
   },
   "outputs": [
    {
     "name": "stdout",
     "output_type": "stream",
     "text": [
      "The mean of the slope is  3.012045117117278\n"
     ]
    },
    {
     "data": {
      "image/png": "[encoded data removed]",
      "text/plain": [
       "<Figure size 432x288 with 1 Axes>"
      ]
     },
     "metadata": {},
     "output_type": "display_data"
    }
   ],
   "source": [
    "gen_hist(1000, 'sgd')"
   ]
  },
  {
   "cell_type": "markdown",
   "metadata": {},
   "source": [
    "__The choice of the algorithm doesn't necessarily impact the slope of the regression. However it can be observed that the slope is more skewed to the left of the mean when we use Sochastic Gradient descent method__"
   ]
  },
  {
   "cell_type": "markdown",
   "metadata": {},
   "source": [
    "#### Deriving the slope and intercept using Analytical Solution"
   ]
  },
  {
   "cell_type": "code",
   "execution_count": 17,
   "metadata": {
    "ExecuteTime": {
     "end_time": "2018-09-26T21:40:24.105995Z",
     "start_time": "2018-09-26T21:40:24.101802Z"
    }
   },
   "outputs": [
    {
     "data": {
      "text/plain": [
       "(2.007617265317731, 2.832643898960809)"
      ]
     },
     "execution_count": 17,
     "metadata": {},
     "output_type": "execute_result"
    }
   ],
   "source": [
    "n_theta0, n_theta1 = gd.analytical(X_i, Y)\n",
    "n_theta0, n_theta1"
   ]
  },
  {
   "cell_type": "markdown",
   "metadata": {},
   "source": [
    "#### Deriving the slope and intercept using Mean Absolute Error with Gradient Descent and Batch/SGD Gradient Descent"
   ]
  },
  {
   "cell_type": "code",
   "execution_count": 18,
   "metadata": {
    "ExecuteTime": {
     "end_time": "2018-09-26T21:40:24.247966Z",
     "start_time": "2018-09-26T21:40:24.108551Z"
    }
   },
   "outputs": [
    {
     "data": {
      "text/plain": [
       "(2.806400000000111, 3.412397238811685)"
      ]
     },
     "execution_count": 18,
     "metadata": {},
     "output_type": "execute_result"
    },
    {
     "data": {
      "image/png": "[encoded data removed]",
      "text/plain": [
       "<Figure size 432x288 with 1 Axes>"
      ]
     },
     "metadata": {},
     "output_type": "display_data"
    }
   ],
   "source": [
    "n_theta0, n_theta1, n_error = gd.gd_mae(theta0, theta1, X_i, Y)\n",
    "plt.plot(n_error)\n",
    "n_theta0, n_theta1"
   ]
  },
  {
   "cell_type": "code",
   "execution_count": 19,
   "metadata": {
    "ExecuteTime": {
     "end_time": "2018-09-26T21:40:24.409706Z",
     "start_time": "2018-09-26T21:40:24.249979Z"
    }
   },
   "outputs": [
    {
     "data": {
      "text/plain": [
       "(2.8075999999980215, 3.4139421706677893)"
      ]
     },
     "execution_count": 19,
     "metadata": {},
     "output_type": "execute_result"
    },
    {
     "data": {
      "image/png": "[encoded data removed]",
      "text/plain": [
       "<Figure size 432x288 with 1 Axes>"
      ]
     },
     "metadata": {},
     "output_type": "display_data"
    }
   ],
   "source": [
    "n_theta0, n_theta1, n_error = gd.sgd_mae(theta0, theta1, X_i, Y)\n",
    "plt.plot(n_error)\n",
    "n_theta0, n_theta1"
   ]
  },
  {
   "cell_type": "markdown",
   "metadata": {},
   "source": [
    "#### Deriving the slope and intercept using Huber loss Error with Gradient Descent and Batch/SGD Gradient Descent"
   ]
  },
  {
   "cell_type": "code",
   "execution_count": 20,
   "metadata": {
    "ExecuteTime": {
     "end_time": "2018-09-26T21:40:24.529455Z",
     "start_time": "2018-09-26T21:40:24.411871Z"
    }
   },
   "outputs": [
    {
     "data": {
      "text/plain": [
       "(2.183551920957802, 3.01762426190949)"
      ]
     },
     "execution_count": 20,
     "metadata": {},
     "output_type": "execute_result"
    },
    {
     "data": {
      "image/png": "[encoded data removed]",
      "text/plain": [
       "<Figure size 432x288 with 1 Axes>"
      ]
     },
     "metadata": {},
     "output_type": "display_data"
    }
   ],
   "source": [
    "n_theta0, n_theta1, n_error = gd.gd_hubber(theta0, theta1, X_i, Y, delta=1.5)\n",
    "plt.plot(n_error)\n",
    "n_theta0, n_theta1"
   ]
  },
  {
   "cell_type": "code",
   "execution_count": 21,
   "metadata": {
    "ExecuteTime": {
     "end_time": "2018-09-26T21:40:24.699724Z",
     "start_time": "2018-09-26T21:40:24.531492Z"
    }
   },
   "outputs": [
    {
     "data": {
      "text/plain": [
       "(2.1843531576153574, 3.0176560531090852)"
      ]
     },
     "execution_count": 21,
     "metadata": {},
     "output_type": "execute_result"
    },
    {
     "data": {
      "image/png": "[encoded data removed]",
      "text/plain": [
       "<Figure size 432x288 with 1 Axes>"
      ]
     },
     "metadata": {},
     "output_type": "display_data"
    }
   ],
   "source": [
    "n_theta0, n_theta1, n_error = gd.sgd_hubber(theta0, theta1, X_i, Y, delta=1.5, num_steps=1000)\n",
    "plt.plot(n_error)\n",
    "n_theta0, n_theta1"
   ]
  },
  {
   "cell_type": "markdown",
   "metadata": {
    "ExecuteTime": {
     "end_time": "2018-09-18T19:15:32.629307Z",
     "start_time": "2018-09-18T19:15:32.627108Z"
    }
   },
   "source": [
    "#### Slope Histogram of Analytical Solution"
   ]
  },
  {
   "cell_type": "code",
   "execution_count": 22,
   "metadata": {
    "ExecuteTime": {
     "end_time": "2018-09-26T21:40:24.857092Z",
     "start_time": "2018-09-26T21:40:24.701348Z"
    }
   },
   "outputs": [
    {
     "name": "stdout",
     "output_type": "stream",
     "text": [
      "The mean of the slope is  2.9977711816423827\n"
     ]
    },
    {
     "data": {
      "image/png": "[encoded data removed]",
      "text/plain": [
       "<Figure size 432x288 with 1 Axes>"
      ]
     },
     "metadata": {},
     "output_type": "display_data"
    }
   ],
   "source": [
    "gen_hist(1000, 'ana')"
   ]
  },
  {
   "cell_type": "markdown",
   "metadata": {
    "ExecuteTime": {
     "end_time": "2018-09-18T19:15:58.510885Z",
     "start_time": "2018-09-18T19:15:58.508483Z"
    }
   },
   "source": [
    "#### Slope Histogram of Mean Absolute Error Gradient Descent"
   ]
  },
  {
   "cell_type": "code",
   "execution_count": 23,
   "metadata": {
    "ExecuteTime": {
     "end_time": "2018-09-26T21:40:53.435297Z",
     "start_time": "2018-09-26T21:40:24.859329Z"
    }
   },
   "outputs": [
    {
     "name": "stdout",
     "output_type": "stream",
     "text": [
      "The mean of the slope is  3.076484383002292\n"
     ]
    },
    {
     "data": {
      "image/png": "[encoded data removed]",
      "text/plain": [
       "<Figure size 432x288 with 1 Axes>"
      ]
     },
     "metadata": {},
     "output_type": "display_data"
    }
   ],
   "source": [
    "gen_hist(1000, 'mae')"
   ]
  },
  {
   "cell_type": "markdown",
   "metadata": {},
   "source": [
    "#### Slope Histogram of Huber loss Error Gradient Descent"
   ]
  },
  {
   "cell_type": "code",
   "execution_count": 24,
   "metadata": {
    "ExecuteTime": {
     "end_time": "2018-09-26T21:41:22.360753Z",
     "start_time": "2018-09-26T21:40:53.437660Z"
    }
   },
   "outputs": [
    {
     "name": "stdout",
     "output_type": "stream",
     "text": [
      "The mean of the slope is  2.99709855069513\n"
     ]
    },
    {
     "data": {
      "image/png": "[encoded data removed]",
      "text/plain": [
       "<Figure size 432x288 with 1 Axes>"
      ]
     },
     "metadata": {},
     "output_type": "display_data"
    }
   ],
   "source": [
    "gen_hist(1000, 'hubber', delta=1.5)"
   ]
  },
  {
   "cell_type": "markdown",
   "metadata": {},
   "source": [
    "__Using Mean absolute error the varience of the slope is less compared to the other techniques however the distribution is normal along the mean for all techniques__"
   ]
  },
  {
   "cell_type": "markdown",
   "metadata": {},
   "source": [
    "#### Inducing Noise in the Dataset"
   ]
  },
  {
   "cell_type": "code",
   "execution_count": 25,
   "metadata": {
    "ExecuteTime": {
     "end_time": "2018-09-26T21:41:22.366525Z",
     "start_time": "2018-09-26T21:41:22.363113Z"
    }
   },
   "outputs": [],
   "source": [
    "XNoise_i, YNoise, theta0, theta1, gd = insertNoise(0.1)"
   ]
  },
  {
   "cell_type": "markdown",
   "metadata": {
    "ExecuteTime": {
     "end_time": "2018-09-18T19:17:04.428232Z",
     "start_time": "2018-09-18T19:17:04.425984Z"
    }
   },
   "source": [
    "#### Analytical Solution with Noisy Data"
   ]
  },
  {
   "cell_type": "code",
   "execution_count": 26,
   "metadata": {
    "ExecuteTime": {
     "end_time": "2018-09-26T21:41:22.376116Z",
     "start_time": "2018-09-26T21:41:22.368750Z"
    }
   },
   "outputs": [
    {
     "data": {
      "text/plain": [
       "(1.6992520160015223, 3.196871085342846)"
      ]
     },
     "execution_count": 26,
     "metadata": {},
     "output_type": "execute_result"
    }
   ],
   "source": [
    "n_theta0, n_theta1 = gd.analytical(XNoise_i, YNoise)\n",
    "n_theta0, n_theta1"
   ]
  },
  {
   "cell_type": "markdown",
   "metadata": {
    "ExecuteTime": {
     "end_time": "2018-09-18T19:17:56.682379Z",
     "start_time": "2018-09-18T19:17:56.680153Z"
    }
   },
   "source": [
    "#### Gradient descent using Mean Absolute Error with Noisy Data"
   ]
  },
  {
   "cell_type": "code",
   "execution_count": 27,
   "metadata": {
    "ExecuteTime": {
     "end_time": "2018-09-26T21:41:22.519962Z",
     "start_time": "2018-09-26T21:41:22.378212Z"
    }
   },
   "outputs": [
    {
     "data": {
      "text/plain": [
       "(1.8028000000000617, 3.041611985046415)"
      ]
     },
     "execution_count": 27,
     "metadata": {},
     "output_type": "execute_result"
    },
    {
     "data": {
      "image/png": "[encoded data removed]",
      "text/plain": [
       "<Figure size 432x288 with 1 Axes>"
      ]
     },
     "metadata": {},
     "output_type": "display_data"
    }
   ],
   "source": [
    "n_theta0, n_theta1, n_error = gd.gd_mae(theta0, theta1, XNoise_i, YNoise)\n",
    "plt.plot(n_error)\n",
    "n_theta0, n_theta1"
   ]
  },
  {
   "cell_type": "markdown",
   "metadata": {},
   "source": [
    "#### Gradient descent using Hubber Loss Error with Noisy Data"
   ]
  },
  {
   "cell_type": "code",
   "execution_count": 28,
   "metadata": {
    "ExecuteTime": {
     "end_time": "2018-09-26T21:41:22.647922Z",
     "start_time": "2018-09-26T21:41:22.521995Z"
    }
   },
   "outputs": [
    {
     "data": {
      "text/plain": [
       "(1.755346721975106, 3.0557651812633204)"
      ]
     },
     "execution_count": 28,
     "metadata": {},
     "output_type": "execute_result"
    },
    {
     "data": {
      "image/png": "[encoded data removed]",
      "text/plain": [
       "<Figure size 432x288 with 1 Axes>"
      ]
     },
     "metadata": {},
     "output_type": "display_data"
    }
   ],
   "source": [
    "n_theta0, n_theta1, n_error = gd.gd_hubber(theta0, theta1, XNoise_i, YNoise, delta=1.5)\n",
    "plt.plot(n_error)\n",
    "n_theta0, n_theta1"
   ]
  },
  {
   "cell_type": "markdown",
   "metadata": {},
   "source": [
    "#### Slope Histogram of Noise Data using Analytical Solution"
   ]
  },
  {
   "cell_type": "code",
   "execution_count": 29,
   "metadata": {
    "ExecuteTime": {
     "end_time": "2018-09-26T21:41:22.817730Z",
     "start_time": "2018-09-26T21:41:22.650776Z"
    }
   },
   "outputs": [
    {
     "name": "stdout",
     "output_type": "stream",
     "text": [
      "The mean of the slope is  3.0054071390070796\n"
     ]
    },
    {
     "data": {
      "image/png": "[encoded data removed]",
      "text/plain": [
       "<Figure size 432x288 with 1 Axes>"
      ]
     },
     "metadata": {},
     "output_type": "display_data"
    }
   ],
   "source": [
    "gen_hist(1000, 'ana', error=1, tprob=0.1)"
   ]
  },
  {
   "cell_type": "markdown",
   "metadata": {},
   "source": [
    "#### Slope Histogram of Noise Data using Mean Absolute Error"
   ]
  },
  {
   "cell_type": "code",
   "execution_count": 30,
   "metadata": {
    "ExecuteTime": {
     "end_time": "2018-09-26T21:41:52.129476Z",
     "start_time": "2018-09-26T21:41:22.819846Z"
    }
   },
   "outputs": [
    {
     "name": "stdout",
     "output_type": "stream",
     "text": [
      "The mean of the slope is  3.076144269439512\n"
     ]
    },
    {
     "data": {
      "image/png": "[encoded data removed]",
      "text/plain": [
       "<Figure size 432x288 with 1 Axes>"
      ]
     },
     "metadata": {},
     "output_type": "display_data"
    }
   ],
   "source": [
    "gen_hist(1000, 'mae', error=1, tprob=0.1)"
   ]
  },
  {
   "cell_type": "markdown",
   "metadata": {},
   "source": [
    "#### Slope Histogram of Noise Data using Hubber Loss"
   ]
  },
  {
   "cell_type": "code",
   "execution_count": 31,
   "metadata": {
    "ExecuteTime": {
     "end_time": "2018-09-26T21:42:19.699012Z",
     "start_time": "2018-09-26T21:41:52.131772Z"
    }
   },
   "outputs": [
    {
     "name": "stdout",
     "output_type": "stream",
     "text": [
      "The mean of the slope is  2.974204408785957\n"
     ]
    },
    {
     "data": {
      "image/png": "[encoded data removed]",
      "text/plain": [
       "<Figure size 432x288 with 1 Axes>"
      ]
     },
     "metadata": {},
     "output_type": "display_data"
    }
   ],
   "source": [
    "gen_hist(1000, 'hubber', delta=1.5, error=1, tprob=0.1)"
   ]
  },
  {
   "cell_type": "markdown",
   "metadata": {},
   "source": [
    "__One can notice that using Mean absolute error function skews more to right of the mean compared to the other two techniques, hubber loss produces around 50% slope within one standard deviation__"
   ]
  }
 ],
 "metadata": {
  "kernelspec": {
   "display_name": "Python 3",
   "language": "python",
   "name": "python3"
  },
  "language_info": {
   "codemirror_mode": {
    "name": "ipython",
    "version": 3
   },
   "file_extension": ".py",
   "mimetype": "text/x-python",
   "name": "python",
   "nbconvert_exporter": "python",
   "pygments_lexer": "ipython3",
   "version": "3.6.6"
  }
 },
 "nbformat": 4,
 "nbformat_minor": 2
}
